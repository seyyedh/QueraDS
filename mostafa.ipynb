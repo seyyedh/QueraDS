{
 "cells": [
  {
   "cell_type": "markdown",
   "metadata": {},
   "source": [
    "<h1 align=center style=\"line-height:200%;font-family:vazir;color:#0099cc\">\n",
    "<font face=\"vazir\" color=\"#0099cc\">\n",
    " مصطفی\n",
    "\n",
    "</font>\n",
    "</h1>\n"
   ]
  },
  {
   "cell_type": "markdown",
   "metadata": {},
   "source": [
    "<p dir=rtl style=\"direction: rtl;text-align: right;line-height:200%;font-family:vazir;font-size:medium\">\n",
    "<font face=\"vazir\" size=3>\n",
    "مصطفی فرزند خانواده‌ای مرفه و بی درد بود. وی به ساده زیستی و قناعت معتقد بود و پول برای وی پشیزی نمی‌ارزید، از این رو پیشه‌ای برای خود برنگزیده و به تفریح می‌پرداخت و از جیب پدر الماس فروشش امرار معاش می‌کرد. \n",
    "<br>\n",
    "پدر مصطفی تصمیم می‌گیرد تا تجارت فروش الماس را به مصطفی واگذار کند، اما مصطفی تجربه و تخصصی در این حوزه ندارد. مصطفی تصمیم می‌‌گیرد به کسب و کار پدرش سر و سامانی بدهد.\n",
    "<br>\n",
    "برای شروع کار ابتدا باید اطلاعات مختلف الماس‌ها (وزن به قیراط،‌ طول و عرض و ارتفاع و غیره) را در دیتاسری و دیتافریم‌هایی ذخیره کند تا برای قیمت‌گذاری الماس‌ها از این اطلاعات استفاده کند. در این تمرین بیشتر با ساخت دیتاسری و دیتافریم سر و کار داریم.\n",
    "</font>\n",
    "</p>\n"
   ]
  },
  {
   "cell_type": "markdown",
   "metadata": {},
   "source": [
    "<h2 align=right style=\"line-height:200%;font-family:vazir;color:#0099cc\">\n",
    "<font face=\"vazir\" color=\"#0099cc\">\n",
    "قسمت اول\n",
    "<br>\n",
    "برش ایده‌آل\n",
    "</font>\n",
    "</h2>\n",
    "<p dir=rtl style=\"direction: rtl;text-align: right;line-height:200%;font-family:vazir;font-size:medium\">\n",
    "<font face=\"vazir\" size=3>\n",
    "برای بررسی کیفیت برش الماس‌ها از دوستش،\n",
    "<b>\n",
    " اقبال\n",
    " </b>\n",
    "  کمک گرفت. اقبال نوع برش الماس‌ها را در یک لیست پایتون نوشت و از تلگرام برای مصطفی فرستاد.\n",
    "</font>\n",
    "</p>\n"
   ]
  },
  {
   "cell_type": "code",
   "execution_count": null,
   "metadata": {},
   "outputs": [],
   "source": [
    "cut = ['Ideal', 'Premium', 'Premium', 'Premium', 'Premium', 'Very Good',\n",
    "       'Premium', 'Premium', 'Ideal', 'Premium', 'Good', 'Good', 'Premium', \n",
    "       'Very Good', 'Very Good', 'Good', 'Good','Very Good', 'Good', 'Good', \n",
    "       'Premium', 'Premium', 'Good', 'Good']"
   ]
  },
  {
   "cell_type": "markdown",
   "metadata": {},
   "source": [
    "<p dir=rtl style=\"direction: rtl;text-align: right;line-height:200%;font-family:vazir;font-size:medium\">\n",
    "<font face=\"vazir\" size=3>\n",
    "با استفاده از اطلاعات ارسالی اقبال، یک دیتاسری به نام <code>cut_series</code> بسازید. \n",
    "</font>\n",
    "</p>"
   ]
  },
  {
   "cell_type": "code",
   "execution_count": null,
   "metadata": {},
   "outputs": [],
   "source": [
    "import pandas as pd\n",
    "cut_series = None # to do\n"
   ]
  },
  {
   "cell_type": "markdown",
   "metadata": {},
   "source": [
    "<p dir=rtl style=\"direction: rtl;text-align: right;line-height:200%;font-family:vazir;font-size:medium\">\n",
    "<font face=\"vazir\" size=3>\n",
    "در دیتاسری <code>cut_series</code>، کیفیت برش هر الماس ذخیره شده است. تعداد هر کیفیت برش را در دیتاسری <code>cut_sorted</code> به شکل صعودی ذخیره کنید. یعنی عنوان و تعداد کم‌ تعداد‌ترین نوع برش، در ابتدای این دیتاسری قرار بگیرد.\n",
    "<br>\n",
    "\n",
    "<br>\n",
    "برای ساخت این دیتاسری، باید از یکی از توابع معرفی شده در درسنامه <بررسی دیتافریم> استفاده کنید.\n",
    "</font>\n",
    "</p>"
   ]
  },
  {
   "cell_type": "code",
   "execution_count": null,
   "metadata": {},
   "outputs": [],
   "source": [
    "cut_sorted = None # to do"
   ]
  },
  {
   "cell_type": "markdown",
   "metadata": {},
   "source": [
    "<h2 align=right style=\"line-height:200%;font-family:vazir;color:#0099cc\">\n",
    "<font face=\"vazir\" color=\"#0099cc\">\n",
    "قسمت دوم\n",
    "<br>\n",
    "قیراط الماس‌ها\n",
    "</font>\n",
    "</h2>\n",
    "<p dir=rtl style=\"direction: rtl;text-align: right;line-height:200%;font-family:vazir;font-size:medium\">\n",
    "<font face=\"vazir\" size=3>\n",
    "مصطفی بلد نبود ترازوی پدرش را روشن کند و برای اندازه گرفتن وزن الماس‌ها، سراغ <b>حیان</b>  رفت. حیان همیشه ترازوهای دقیقی در خانه داشت و کسی دلیل آن را نمی‌دانست. حیان هم مانند اقبال از طریق تلگرام، وزن دقیق الماس‌ها را فرستاد.\n",
    "\n",
    "</font>\n",
    "</p>\n"
   ]
  },
  {
   "cell_type": "code",
   "execution_count": null,
   "metadata": {},
   "outputs": [],
   "source": [
    "carat = [1.07, 1.19, 1.19, 1.2, 1.2, 1.25, 1.2, 1.2, 1.2,\n",
    "         1.14, 1.01, 1.01, 1.01, 1.02, 1.01, 1.01, 1.01, \n",
    "         1.01, 1.01, 1.01, 1.01, 1.01, 1.0, 1.0]"
   ]
  },
  {
   "cell_type": "markdown",
   "metadata": {},
   "source": [
    "<p dir=rtl style=\"direction: rtl;text-align: right;line-height:200%;font-family:vazir;font-size:medium\">\n",
    "<font face=\"vazir\" size=3>\n",
    "با استفاده از اطلاعات ارسالی حیان، یک دیتاسری به نام <code>carat_series</code> بسازید.\n",
    "\n",
    "</font>\n",
    "</p>\n"
   ]
  },
  {
   "cell_type": "code",
   "execution_count": null,
   "metadata": {},
   "outputs": [],
   "source": [
    "carat_series = None # to do"
   ]
  },
  {
   "cell_type": "markdown",
   "metadata": {},
   "source": [
    "<p dir=rtl style=\"direction: rtl;text-align: right;line-height:200%;font-family:vazir;font-size:medium\">\n",
    "<font face=\"vazir\" size=3>\n",
    "در فصل نامپای با صدک‌ها آشنا شدید. صدک هفتاد و پنجم این دیتاسری را محاسبه کنید و در متغیر <code>carat_75</code> ذخیره کنید.\n",
    "</font>\n",
    "</p>\n"
   ]
  },
  {
   "cell_type": "code",
   "execution_count": null,
   "metadata": {},
   "outputs": [],
   "source": [
    "import numpy as np\n",
    "carat_75 = None # to do"
   ]
  },
  {
   "cell_type": "markdown",
   "metadata": {},
   "source": [
    "<h2 align=right style=\"line-height:200%;font-family:vazir;color:#0099cc\">\n",
    "<font face=\"vazir\" color=\"#0099cc\">\n",
    "قسمت سوم\n",
    "<br>\n",
    "این الماس چه ابعادی داره؟\n",
    "</font>\n",
    "</h2>\n",
    "<p dir=rtl style=\"direction: rtl;text-align: right;line-height:200%;font-family:vazir;font-size:medium\">\n",
    "<font face=\"vazir\" size=3>\n",
    "مصطفی متاسفانه تفاوت اینچ و سانتی‌متر را نمی‌داند و برای اندازه‌گیری ابعاد  الماس‌ها، سراغ یکی از دوستان پدرش به نام عباس رفت. عباس متخصص اندازه‌گیری در حد نانومتر بود و قادر بود فاصله میان دو بال مگس را اندازه بگیرد. عباس، طول و عرض و ارتفاع الماس‌ها را در یک آرایه نامپای برای مصطفی فرستاد. \n",
    "<br>\n",
    "<br>\n",
    "یکی از راه‌های ذخیره‌سازی آرایه نامپای، استفاده از فرمت ذخیره‌سازی <code>npz</code> است. در این فایل می‌توان هر تعداد آرایه نامپای را ذخیره کرد و بعد با استفاده از نام آرایه‌ها، آرایه مورد نظر را از فایل بیرون کشید. برای آشنایی بیشتر با این فایل،\n",
    "<a href=\"https://stackoverflow.com/questions/54238670/what-is-the-advantage-of-saving-npz-files-instead-of-npy-in-python-regard\"> \n",
    " این لینک\n",
    "</a>\n",
    " را ببینید. \n",
    "<br>\n",
    "چون نحوه استفاده این فایل را برای شما توضیح نداده‌ایم، خواندن آن و تبدیل به آرایه نامپای را در این سلول انجام می‌دهیم  و در متغیر <code>sizes_array</code> ذخیره می‌کنیم.\n",
    " \n",
    "</font>\n",
    "</p>\n"
   ]
  },
  {
   "cell_type": "code",
   "execution_count": null,
   "metadata": {},
   "outputs": [],
   "source": [
    "import numpy as np\n",
    "\n",
    "sizes = np.load('sizes.npz', allow_pickle=True)\n",
    "sizes_array = sizes['sizes']\n",
    "sizes_array"
   ]
  },
  {
   "cell_type": "markdown",
   "metadata": {},
   "source": [
    "\n",
    "<p dir=rtl style=\"direction: rtl;text-align: right;line-height:200%;font-family:vazir;font-size:medium\">\n",
    "<font face=\"vazir\" size=3>\n",
    " آرایه <code>sizes_array</code> دارای سه ستون است. در ستون اول طول، در ستون دوم عرض و در ستون سوم ارتفاع الماس‌ها ذخیره شده است. \n",
    " <br>\n",
    "با استفاده از این آرایه، یک دیتافریم به نام <code>sizes_df</code> بسازید و نام ستون‌های آن را برابر x , y , z قرار دهید. (اولین ستون x نام دارد).\n",
    " </font>\n",
    "</p>\n"
   ]
  },
  {
   "cell_type": "code",
   "execution_count": null,
   "metadata": {},
   "outputs": [],
   "source": [
    "sizes_df = None # to do"
   ]
  },
  {
   "cell_type": "markdown",
   "metadata": {},
   "source": [
    "<h2 align=right style=\"line-height:200%;font-family:vazir;color:#0099cc\">\n",
    "<font face=\"vazir\" color=\"#0099cc\">\n",
    "قسمت چهارم\n",
    "<br>\n",
    "نمایه مورد علاقه مصطفی\n",
    "</font>\n",
    "</h2>\n",
    "<p dir=rtl style=\"direction: rtl;text-align: right;line-height:200%;font-family:vazir;font-size:medium\">\n",
    "<font face=\"vazir\" size=3>\n",
    "اطلاعات کامپیوتری مصطفی در حد صفر است و از اینکه نمایه سطرها از صفر شروع شده، خیلی خوشش نیامده است. نمایه را طوری تغییر دهید که از یک شروع شود.\n",
    "<br>\n",
    "دیتافریم جدید را در <code>sizes_new_index</code> ذخیره کنید.\n",
    "<br>\n",
    "\n",
    "</font>\n",
    "</p>\n"
   ]
  },
  {
   "cell_type": "code",
   "execution_count": null,
   "metadata": {},
   "outputs": [],
   "source": [
    "sizes_new_index = sizes_df.copy()\n",
    "sizes_new_index = None # to do"
   ]
  },
  {
   "cell_type": "markdown",
   "metadata": {},
   "source": [
    "<h2 align=right style=\"line-height:200%;font-family:vazir;color:#0099cc\">\n",
    "سلول جواب‌ساز\n",
    "</h2>"
   ]
  },
  {
   "cell_type": "code",
   "execution_count": null,
   "metadata": {},
   "outputs": [],
   "source": [
    "import zipfile\n",
    "import joblib\n",
    "\n",
    "joblib.dump(cut_series,\"cut_series\")\n",
    "joblib.dump(cut_sorted,\"cut_sorted\")\n",
    "joblib.dump(carat_series,\"carat_series\")\n",
    "joblib.dump(carat_75,\"carat_75\")\n",
    "joblib.dump(sizes_df,\"sizes_df\")\n",
    "joblib.dump(sizes_new_index,\"sizes_new_index\")\n",
    "\n",
    "def compress(file_names):\n",
    "    print(\"File Paths:\")\n",
    "    print(file_names)\n",
    "    # Select the compression mode ZIP_DEFLATED for compression\n",
    "    # or zipfile.ZIP_STORED to just store the file\n",
    "    compression = zipfile.ZIP_DEFLATED\n",
    "    # create the zip file first parameter path/name, second mode\n",
    "    with zipfile.ZipFile(\"result.zip\", mode=\"w\") as zf:\n",
    "        for file_name in file_names:\n",
    "            # Add file to the zip file\n",
    "            # first parameter file to zip, second filename in zip\n",
    "            zf.write('./' + file_name, file_name, compress_type=compression)\n",
    "\n",
    "\n",
    "file_names = [\"cut_series\",\"cut_sorted\",\"carat_series\",\"carat_75\",\"sizes_df\",\"sizes_new_index\", \"mostafa.ipynb\"]\n",
    "compress(file_names)"
   ]
  }
 ],
 "metadata": {
  "interpreter": {
   "hash": "a1a46404003b1888471f66733c8ff43ecbbd22069e04669a0d47e7a2f84d0bb4"
  },
  "kernelspec": {
   "display_name": "Python 3.7.4 64-bit ('qenv': venv)",
   "name": "python3"
  },
  "language_info": {
   "codemirror_mode": {
    "name": "ipython",
    "version": 3
   },
   "file_extension": ".py",
   "mimetype": "text/x-python",
   "name": "python",
   "nbconvert_exporter": "python",
   "pygments_lexer": "ipython3",
   "version": "3.7.4"
  },
  "orig_nbformat": 4
 },
 "nbformat": 4,
 "nbformat_minor": 2
}
