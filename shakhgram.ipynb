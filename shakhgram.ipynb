{
 "cells": [
  {
   "cell_type": "markdown",
   "id": "d64d01af",
   "metadata": {},
   "source": [
    "<h1 align=center style=\"line-height:200%;font-family:vazir;color:#0099cc\">\n",
    "<font face=\"vazir\" color=\"#0099cc\">\n",
    "    شاخگرام\n",
    "</font>\n",
    "</h1>\n"
   ]
  },
  {
   "cell_type": "markdown",
   "id": "4e177dbd-7e65-45b6-8221-1dec02f863e2",
   "metadata": {},
   "source": [
    "<br>\n",
    "<div dir=rtl id=\"start\" style=\"direction:rtl;line-height:200%;\">\n",
    "\t<font face=\"vazir\" size=4>\n",
    "در درسنامه‌های پیشین با داده‌ساختارهای پرکاربرد در pandas آشنا شدیم. در این تمرین، قصد داریم انتخاب داده از یک دیتافریم را بیشتر تمرین کنیم.\n",
    "دیتاستی که برای این تمرین در دست داریم، مجموعه داده‌هایی از شاخگرام است!\n",
    "شاخگرام شبکه اجتماعی برای شاخ شدن است. یعنی افراد در آن تلاش می‌کنند شاخ شوند.\n",
    "شاخ‌ها در شاخگرام دارای سطوح مختلفی هستند و هر سطح از شاخ بودن، شرایط مخصوص به خود را دارد. هدف از این تمرین اجرای Queryهای مختلف روی دیتاست اصلی است تا شاخ‌های هر سطح را پیدا کنیم.\n",
    "    </font>\n",
    "</div>"
   ]
  },
  {
   "cell_type": "code",
   "execution_count": null,
   "id": "9abaecb9",
   "metadata": {},
   "outputs": [],
   "source": [
    "import pandas as pd \n",
    "import numpy as np\n",
    "import joblib"
   ]
  },
  {
   "cell_type": "markdown",
   "id": "84b3798b",
   "metadata": {},
   "source": [
    "<br>\n",
    "<div dir=rtl id=\"start\" style=\"direction:rtl;line-height:200%;\">\n",
    "\t<font face=\"vazir\" size=4>\n",
    "        برای بارگیری دیتافریم از حافظه تنها کافیست سلول زیر را اجرا کنید!\n",
    "        <br>\n",
    "        روشی که در سلول زیر برای بارگیری دیتاست از حافظه استفاده شده‌است، مرسوم نیست\n",
    "       و در درسنامه «بارگیری و ذخیره‌سازی» بیشتر با روش‌های خواندن و ذخیره کردن دیتاست‌ها در فایل آشنا می‌شویم؛\n",
    "          پس لطفا فعلا در این تمرین بپذیرید که به شکل زیر دیتاست را در اختیارتان قرار دهیم.\n",
    "        <br>  \n",
    "        دیتافریم شبکه‌ی اجتماعی شاخگرام، شامل ستون‌های زیر است:\n",
    "    </font>\n",
    "</div>\n",
    "<p dir=rtl style=\"direction: rtl;text-align: right;line-height:200%;font-family:vazir;font-size:medium\">\n",
    "<table dir=rtl align = center>\n",
    "<tr>\n",
    "<th><font face=\"vazir\" size=3>نام ستون</font></th>\n",
    "<th><font face=\"vazir\" size=3>توضیح</font></th>\n",
    "</tr>\n",
    "<tr>\n",
    "<td><font face=\"vazir\" size=3>owner_name</font></td>\n",
    "<td><font face=\"vazir\" size=3>اسم صاحب پیج</font></td>\n",
    "</tr>\n",
    "<tr>\n",
    "<td><font face=\"vazir\" size=3>follower</font></td>\n",
    "<td><font face=\"vazir\" size=3>تعداد دنبال‌کنندگان پیج</font></td>\n",
    "</tr>\n",
    "<tr>\n",
    "<td><font face=\"vazir\" size=3>following</font></td>\n",
    "<td><font face=\"vazir\" size=3>تعداد دنبال‌شوندگان توسط پیج</font></td>\n",
    "</tr>\n",
    "<tr>\n",
    "<td><font face=\"vazir\" size=3>post_number</font></td>\n",
    "<td><font face=\"vazir\" size=3>تعداد پست‌های پیج</font></td>\n",
    "</tr>\n",
    "</table>\n",
    "</p>\n"
   ]
  },
  {
   "cell_type": "code",
   "execution_count": null,
   "id": "95f73313",
   "metadata": {},
   "outputs": [],
   "source": [
    "df = joblib.load('./df')"
   ]
  },
  {
   "cell_type": "markdown",
   "id": "b562fdc1-2071-47e5-8aae-eb3581aadd99",
   "metadata": {},
   "source": [
    "<h2 align=right style=\"line-height:200%;font-family:vazir;color:#0099cc\">\n",
    "<font face=\"vazir\" color=\"#0099cc\">\n",
    "    مشاهده‌ی داده‌ها\n",
    "    </font>\n",
    "</h2>\n"
   ]
  },
  {
   "cell_type": "markdown",
   "id": "9f6dc719",
   "metadata": {},
   "source": [
    "<br>\n",
    "<div dir=rtl id=\"start\" style=\"direction:rtl;line-height:200%;\">\n",
    "\t<font face=\"vazir\" size=4>\n",
    "        با اجرای سلول زیر شمای کلی دیتاست را مشاهده کنید.\n",
    "        <br>\n",
    "        پیشنهاد می‌کنیم سعی کنید ستون‌ها و سطرهای مختلفی از دیتافریم را انتخاب کنید تا علاوه بر اینکه با دیتاست بیشتر آشنا می‌شوید، برای پیاده‌سازی جواب سوال نیز آماده شوید!\n",
    "</div>"
   ]
  },
  {
   "cell_type": "code",
   "execution_count": null,
   "id": "856f8d8c",
   "metadata": {},
   "outputs": [],
   "source": [
    "df.head()"
   ]
  },
  {
   "cell_type": "markdown",
   "id": "e27aee0d-51ff-4cd0-bad8-ff3bf8f0d478",
   "metadata": {},
   "source": [
    "<h2 align=right style=\"line-height:200%;font-family:vazir;color:#0099cc\">\n",
    "<font face=\"vazir\" color=\"#0099cc\">\n",
    "قسمت اول\n",
    "    </font>\n",
    "</h2>\n"
   ]
  },
  {
   "cell_type": "markdown",
   "id": "16a7ddaa",
   "metadata": {},
   "source": [
    "<br>\n",
    "<div dir=rtl id=\"start\" style=\"direction:rtl;line-height:200%;\">\n",
    "\t<font face=\"vazir\" size=4>\n",
    "        در این شبکه اجتماعی، ۵ دسته از شاخ‌بودن وجود دارد. برای اینکه عضو هر دسته باشیم، می‌بایست پیج و اسم ما شرایط خاصی داشته باشد.\n",
    "        <br>\n",
    "        اولین دسته‌ی شاخ‌های شاخگرام، شاخ‌های برنجی هستند؛ شاخ‌های برنجی،  افرادی هستند که تعداد افرادی که توسط پیج دنبال می‌شوند (following) <b>از ۱۱ کمتر</b> باشد.\n",
    "        <br>\n",
    "        در سلول زیر، بخشی از دیتافریم اصلی را که شرایط شاخ‌های برنجی دارند را، در متغیر <code>berenji_df</code>،\n",
    "        جدا و ذخیره کنید.\n",
    "    </font>\n",
    "</div>"
   ]
  },
  {
   "cell_type": "code",
   "execution_count": null,
   "id": "f16be0eb",
   "metadata": {},
   "outputs": [],
   "source": [
    "berenji_df = None"
   ]
  },
  {
   "cell_type": "markdown",
   "id": "b7b42eef-6dc7-4093-b4e2-40428e9b003b",
   "metadata": {},
   "source": [
    "<h2 align=right style=\"line-height:200%;font-family:vazir;color:#0099cc\">\n",
    "<font face=\"vazir\" color=\"#0099cc\">\n",
    "قسمت دوم\n",
    "    </font>\n",
    "</h2>\n"
   ]
  },
  {
   "cell_type": "markdown",
   "id": "bb42f23f",
   "metadata": {},
   "source": [
    "<br>\n",
    "<div dir=rtl id=\"start\" style=\"direction:rtl;line-height:200%;\">\n",
    "\t<font face=\"vazir\" size=4>\n",
    "        در متغیر <code>mesi_df</code>، شاخ‌های مسی را ذخیره کنید؛ شاخ‌های مسی، افرادی هستند که تعداد پست‌های پیجشان از تعداد افرادی که آن پیج دنبالشان می‌کند (following) بیشتر باشد.\n",
    "    </font>\n",
    "</div>"
   ]
  },
  {
   "cell_type": "code",
   "execution_count": null,
   "id": "51f5a12b",
   "metadata": {},
   "outputs": [],
   "source": [
    "mesi_df = None"
   ]
  },
  {
   "cell_type": "markdown",
   "id": "5bf37fd8-813b-4882-b8ba-b361fdc62f0e",
   "metadata": {},
   "source": [
    "<h2 align=right style=\"line-height:200%;font-family:vazir;color:#0099cc\">\n",
    "<font face=\"vazir\" color=\"#0099cc\">\n",
    "قسمت سوم\n",
    "    </font>\n",
    "</h2>\n"
   ]
  },
  {
   "cell_type": "markdown",
   "id": "6bc6b833",
   "metadata": {},
   "source": [
    "<br>\n",
    "<div dir=rtl id=\"start\" style=\"direction:rtl;line-height:200%;\">\n",
    "\t<font face=\"vazir\" size=4>\n",
    "        در متغیر <code>boronzi_df</code>، شاخ‌های برنزی را ذخیره کنید؛\n",
    "شاخ‌های برنزی، افرادی هستند که تعداد دنبال‌کنندگان پیجشان بیشتر از یک میلیون نفر باشد.\n",
    "    </font>\n",
    "</div>"
   ]
  },
  {
   "cell_type": "code",
   "execution_count": null,
   "id": "76184e27",
   "metadata": {
    "tags": []
   },
   "outputs": [],
   "source": [
    "boronzi_df = None"
   ]
  },
  {
   "cell_type": "markdown",
   "id": "e8ef45c6-0367-4e24-82c0-9ab6b97a34b2",
   "metadata": {},
   "source": [
    "<h2 align=right style=\"line-height:200%;font-family:vazir;color:#0099cc\">\n",
    "<font face=\"vazir\" color=\"#0099cc\">\n",
    "قسمت چهارم\n",
    "    </font>\n",
    "</h2>\n"
   ]
  },
  {
   "cell_type": "markdown",
   "id": "ba7d05d3",
   "metadata": {},
   "source": [
    "<br>\n",
    "<div dir=rtl id=\"start\" style=\"direction:rtl;line-height:200%;\">\n",
    "\t<font face=\"vazir\" size=4>\n",
    "        در متغیر <code>noghreyee_df</code>، شاخ‌های نقره‌ای را ذخیره کنید؛\n",
    "شاخ‌های نقره‌ای، افرادی هستند که دو شرط زیر را همزمان داشته باشند:\n",
    "   <br>\n",
    "        شرط اول : تعداد دنبال‌کنندگان پیجشان بیشتر‌ مساوی ده میلیون باشد.\n",
    "        <br>\n",
    "شرط دوم : تعداد دنبال‌شوندگان توسط پیج کمتر از ۵۰ باشد.\n",
    "    </font>\n",
    "</div>"
   ]
  },
  {
   "cell_type": "code",
   "execution_count": null,
   "id": "6b8b4f92",
   "metadata": {
    "tags": []
   },
   "outputs": [],
   "source": [
    "noghreyee_df = None"
   ]
  },
  {
   "cell_type": "markdown",
   "id": "79b40e28-7007-48b5-95b1-bd8c3e5f05ae",
   "metadata": {},
   "source": [
    "<h2 align=right style=\"line-height:200%;font-family:vazir;color:#0099cc\">\n",
    "<font face=\"vazir\" color=\"#0099cc\">\n",
    "قسمت پنجم\n",
    "    </font>\n",
    "</h2>\n"
   ]
  },
  {
   "cell_type": "markdown",
   "id": "43ba11ea",
   "metadata": {},
   "source": [
    "<br>\n",
    "<div dir=rtl id=\"start\" style=\"direction:rtl;line-height:200%;\">\n",
    "\t<font face=\"vazir\" size=4>\n",
    "        در متغیر <code>talayee_df</code>، شاخ‌های طلایی را ذخیره کنید؛\n",
    "شاخ‌های طلایی افرادی هستند که حداقل یکی از دو شرط زیر را داشته باشند (یعنی شرط اول یا شرط دوم)\n",
    "        <br>\n",
    "1. تعداد دنبال‌کنندگان (follower) بزرگتر از ده میلیون و تعداد دنبال شوندگان (following) کمتر از ۲۰ نفر باشد.\n",
    "<br>\n",
    "2.         تعداد پست‌ها کمتر از ۱۵ و حرف Rدر اسم صاحب پیج وجود داشته باشد (مثل BooAzaR!).\n",
    "    </font>\n",
    "</div>"
   ]
  },
  {
   "cell_type": "code",
   "execution_count": null,
   "id": "099d1ff4",
   "metadata": {},
   "outputs": [],
   "source": [
    "talayee_df = None"
   ]
  },
  {
   "cell_type": "markdown",
   "id": "ad56a791-6354-4597-babf-c9df1c83ca73",
   "metadata": {},
   "source": [
    "<h2 align=right style=\"line-height:200%;font-family:vazir;color:#0099cc\">\n",
    "<font face=\"vazir\" color=\"#0099cc\">\n",
    "<b>سلول جواب‌ساز</b>\n",
    "</font>\n",
    "</h2>"
   ]
  },
  {
   "cell_type": "code",
   "execution_count": null,
   "id": "9b01fa06",
   "metadata": {},
   "outputs": [],
   "source": [
    "import zlib\n",
    "import zipfile\n",
    "\n",
    "\n",
    "def compress(file_names):\n",
    "    print(\"File Paths:\")\n",
    "    print(file_names)\n",
    "    compression = zipfile.ZIP_DEFLATED\n",
    "    with zipfile.ZipFile(\"result.zip\", mode=\"w\") as zf:\n",
    "        for file_name in file_names:\n",
    "            zf.write('./' + file_name, file_name, compress_type=compression)\n",
    "\n",
    "\n",
    "berenji_df.to_csv('berenji.csv',index = True)\n",
    "mesi_df.to_csv('mesi.csv',index = True)\n",
    "boronzi_df.to_csv(\"boronzi.csv\", index = True)\n",
    "noghreyee_df.to_csv(\"noghreyee.csv\", index = True)\n",
    "talayee_df.to_csv(\"talayee.csv\", index = True)\n",
    "\n",
    "\n",
    "file_names = [\"berenji.csv\", \"shakhgram.ipynb\",\"mesi.csv\",\"boronzi.csv\", \"noghreyee.csv\", \"talayee.csv\"]\n",
    "compress(file_names)"
   ]
  }
 ],
 "metadata": {
  "kernelspec": {
   "display_name": "Python 3 (ipykernel)",
   "language": "python",
   "name": "python3"
  },
  "language_info": {
   "codemirror_mode": {
    "name": "ipython",
    "version": 3
   },
   "file_extension": ".py",
   "mimetype": "text/x-python",
   "name": "python",
   "nbconvert_exporter": "python",
   "pygments_lexer": "ipython3",
   "version": "3.8.6"
  }
 },
 "nbformat": 4,
 "nbformat_minor": 5
}
