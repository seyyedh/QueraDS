{
 "cells": [
  {
   "cell_type": "markdown",
   "metadata": {},
   "source": [
    "<h1 align=center style=\"line-height:200%;font-family:vazir;color:#0099cc\">\n",
    "<font face=\"vazir\" color=\"#0099cc\">\n",
    "بازی با کوئرا\n",
    "</font>\n",
    "</h1>"
   ]
  },
  {
   "cell_type": "markdown",
   "metadata": {},
   "source": [
    "<p dir=rtl style=\"direction: rtl;text-align: right;line-height:200%;font-family:vazir;font-size:medium\">\n",
    "<font face=\"vazir\" size=3>\n",
    "     در این قسمت قصد داریم کار با آرایه‌ها در numpy را بیشتر تمرین کنیم.\n",
    "        <br>\n",
    "    </font>\n",
    "</p>\n",
    "\n",
    "<h2 align=right style=\"line-height:200%;font-family:vazir;color:#0099cc\">\n",
    "<font face=\"vazir\" color=\"#0099cc\">\n",
    "بخش اول\n",
    "</font>\n",
    "</h2>\n",
    "\n",
    "<p dir=rtl style=\"direction: rtl;text-align: right;line-height:200%;font-family:vazir;font-size:medium\">\n",
    "<font face=\"vazir\" size=3>\n",
    "        در این تمرین  باید یک آرایه‌ای با ابعاد (506,1500,1) را از فایل بارگذاری کنید و سپس آن را به سه آرایه با ابعد (506,500,1) تبدیل کنید. \n",
    "        یعنی بعد دوم (1500) آرایه ورودی را به سه قسمت مساوی تقسیم کنید.\n",
    "        <br>\n",
    "        بعد دوم آرایه اول ۵۰۰ تای ابتدایی بعد دوم آرایه ورودی،‌ بعد دوم آرایه دوم ۵۰۰تای میانی بعد دوم آرایه ورودی و بعد دوم آرایه سوم دارای ۵۰۰تای نهایی بعد دوم آرایه ورودی باشد.\n",
    "        <br>\n",
    "        آرایه اول را در ch1، آرایه دوم را در ch2 و آرایه سوم را در ch3 ذخیره کنید.\n",
    "        shape هر کدام از این سه آرایه باید (506,500,1) باشد.\n",
    "        <br>\n",
    "    <br>\n",
    "     با استفاده از تابع load  داده مورد نیاز برای مسئله را از فایل data.npz می‌خوانیم.\n",
    "        <br>\n",
    "        خروجی تابع load مانند یک دیکشنری است که با کلید data می‌توان داده‌ای که برای این تمرین لازم است را از آن خواند.\n",
    "  \n",
    "  <br>\n",
    "  پس از اجرای دو سلول پایین آرایه‌ای با ابعاد (506,1500,1) در متغیر data ذخیره شده است و می‌توانید حل مسئله را شروع کنید.\n",
    " \n",
    "</font>\n",
    "</p>"
   ]
  },
  {
   "cell_type": "code",
   "execution_count": 1,
   "metadata": {
    "id": "ddU9LZWUEiAd"
   },
   "outputs": [],
   "source": [
    "import numpy as np"
   ]
  },
  {
   "cell_type": "code",
   "execution_count": 2,
   "metadata": {
    "colab": {
     "base_uri": "https://localhost:8080/"
    },
    "id": "7reDRLLz0Nek",
    "outputId": "7d1e86c3-7422-4a8b-b55f-d9629a08fb95"
   },
   "outputs": [
    {
     "name": "stdout",
     "output_type": "stream",
     "text": [
      "<class 'numpy.ndarray'>\n",
      "(506, 1500, 1)\n"
     ]
    }
   ],
   "source": [
    "npz_file = np.load('./data.npz')\n",
    "data = npz_file['data']\n",
    "print(type(data))\n",
    "print(data.shape)"
   ]
  },
  {
   "cell_type": "code",
   "execution_count": 3,
   "metadata": {
    "id": "xAPu3ziE01Zl"
   },
   "outputs": [],
   "source": [
    "ch1 = None\n",
    "ch2 = None\n",
    "ch3 = None"
   ]
  },
  {
   "cell_type": "markdown",
   "metadata": {},
   "source": [
    "\n",
    "<h2 align=right style=\"line-height:200%;font-family:vazir;color:#0099cc\">\n",
    "<font face=\"vazir\" color=\"#0099cc\">\n",
    "بخش دوم\n",
    "</font>\n",
    "</h2>\n",
    "\n",
    "<p dir=rtl style=\"direction: rtl;text-align: right;line-height:200%;font-family:vazir;font-size:medium\">\n",
    "<font face=\"vazir\" size=3>\n",
    "       حال ۳ آرایه ch1، ch2، ch3 (به ترتیب از ۱ تا ۳) را روی محور سوم (axis=2) به هم متصل کنید و نتیجه را در آرایه final_data بریزید.\n",
    "</font>\n",
    "</p>"
   ]
  },
  {
   "cell_type": "code",
   "execution_count": 4,
   "metadata": {},
   "outputs": [],
   "source": [
    "final_data = None "
   ]
  },
  {
   "cell_type": "markdown",
   "metadata": {},
   "source": [
    "<h2 align=right style=\"line-height:200%;font-family:vazir;color:#0099cc\">\n",
    "<font face=\"vazir\" color=\"#0099cc\">\n",
    "سلول جواب‌ساز\n",
    "</font>\n",
    "</h2>\n",
    "\n",
    "<p dir=rtl style=\"direction: rtl;text-align: right;line-height:200%;font-family:vazir;font-size:medium\">\n",
    "<font face=\"vazir\" size=3>\n",
    "    با محابسه صحیح آرایه final_data مسئله به اتمام رسیده است. می‌توانید با اجرای سلول زیر فایل result.zip را ایجاد و آن را در سامانه داوری بارگذاری کنید.\n",
    "    <br>\n",
    "    اما اگر دوست دارید بدانید کاربرد این تمرین چیست و شما دقیقا چه کاری انجام داده‌اید می‌توانید سلول‌های بعدی را پیگیری کنید!\n",
    "    <br>\n",
    "</font>\n",
    "</p>"
   ]
  },
  {
   "cell_type": "code",
   "execution_count": 5,
   "metadata": {
    "id": "N_5FlkGwF-X1"
   },
   "outputs": [],
   "source": [
    "import zipfile\n",
    "import joblib\n",
    "\n",
    "np.savez('./submission.npz',final_data=final_data, ch1=ch1, ch2=ch2, ch3=ch3)\n",
    "\n",
    "def compress(file_names):\n",
    "    print(\"File Paths:\")\n",
    "    print(file_names)\n",
    "    # Select the compression mode ZIP_DEFLATED for compression\n",
    "    # or zipfile.ZIP_STORED to just store the file\n",
    "    compression = zipfile.ZIP_DEFLATED\n",
    "    # create the zip file first parameter path/name, second mode\n",
    "    with zipfile.ZipFile(\"result.zip\", mode=\"w\") as zf:\n",
    "        for file_name in file_names:\n",
    "            # Add file to the zip file\n",
    "            # first parameter file to zip, second filename in zip\n",
    "            zf.write('./' + file_name, file_name, compress_type=compression)\n",
    "\n",
    "\n",
    "file_names = [\"submission.npz\", \"play_with_quera.ipynb\"]\n",
    "compress(file_names)"
   ]
  },
  {
   "cell_type": "markdown",
   "metadata": {
    "id": "J-AmCIRGHVpP"
   },
   "source": [
    "\n",
    "<p dir=rtl style=\"direction: rtl;text-align: right;line-height:200%;font-family:vazir;font-size:medium\">\n",
    "<font face=\"vazir\" size=3>\n",
    "در حقیقت سه آرایه‌ای که باهم concatenate کردید، سه کانال رنگی از لوگو کوئرا بود. شما با concatenate کردن آن‌ها در واقع سه کانال رنگی را با هم ترکیب کرده و لوگو با رنگ اصلی را درست کردید.\n",
    "<br>\n",
    "برای اینکه بتوانید عکس‌ها را مشاهده کنید باید کتابخانه matplotlib را نصب کنید.\n",
    "با این کتابخانه در فصل‌های بعدی دوره بیشتر آشنا می‌شویم و در این درسنامه اصلا انتظار نمی‌رود با توابعی که به‌کار می‌رود آشنا باشید.\n",
    "صرفا آن‌ها را اجرا کنید و نتیجه را مشاهده کنید!\n",
    "<br>\n",
    "اگر کتابخانه matplotlib را نصب ندارید می‌توانید با اجرای سلول زیر آن‌را نصب کنید.\n",
    "</font>\n",
    "</p>\n",
    "\n",
    "\n"
   ]
  },
  {
   "cell_type": "code",
   "execution_count": null,
   "metadata": {
    "id": "zsI2W0YDGNgT"
   },
   "outputs": [],
   "source": [
    "#!pip install matplotlib"
   ]
  },
  {
   "cell_type": "code",
   "execution_count": null,
   "metadata": {
    "colab": {
     "base_uri": "https://localhost:8080/",
     "height": 182
    },
    "id": "J4BG5so1Wjs7",
    "outputId": "c212eb7a-4f98-4afe-fd7b-1293df9e5e8f"
   },
   "outputs": [],
   "source": [
    "import matplotlib.pyplot as plt \n",
    "\n",
    "plt.imshow(data[:,:,0])"
   ]
  },
  {
   "cell_type": "code",
   "execution_count": null,
   "metadata": {
    "colab": {
     "base_uri": "https://localhost:8080/",
     "height": 286
    },
    "id": "EnpL7naPWtxG",
    "outputId": "4468b410-30bf-465b-9adb-92ad53781bd8"
   },
   "outputs": [],
   "source": [
    "plt.imshow(ch1[:,:,0])"
   ]
  },
  {
   "cell_type": "code",
   "execution_count": null,
   "metadata": {
    "colab": {
     "base_uri": "https://localhost:8080/",
     "height": 286
    },
    "id": "HLTNyGlWWv44",
    "outputId": "e030a6e3-0c59-4f88-a046-51b8d53bb9c2"
   },
   "outputs": [],
   "source": [
    "plt.imshow(ch2[:,:,0])"
   ]
  },
  {
   "cell_type": "code",
   "execution_count": null,
   "metadata": {
    "colab": {
     "base_uri": "https://localhost:8080/",
     "height": 286
    },
    "id": "Y02gn44lWyX-",
    "outputId": "82062f49-4d69-41d6-9a09-f70a0d83b9f7"
   },
   "outputs": [],
   "source": [
    "plt.imshow(ch3[:,:,0])"
   ]
  },
  {
   "cell_type": "code",
   "execution_count": null,
   "metadata": {
    "colab": {
     "base_uri": "https://localhost:8080/",
     "height": 286
    },
    "id": "YEvazO3ZWz1X",
    "outputId": "e07d2669-e2f8-43ff-c722-ea07512cf86c"
   },
   "outputs": [],
   "source": [
    "plt.imshow(final_data)"
   ]
  }
 ],
 "metadata": {
  "colab": {
   "collapsed_sections": [],
   "name": "exercise1.ipynb",
   "provenance": []
  },
  "kernelspec": {
   "display_name": "Python 3 (ipykernel)",
   "language": "python",
   "name": "python3"
  },
  "language_info": {
   "codemirror_mode": {
    "name": "ipython",
    "version": 3
   },
   "file_extension": ".py",
   "mimetype": "text/x-python",
   "name": "python",
   "nbconvert_exporter": "python",
   "pygments_lexer": "ipython3",
   "version": "3.8.6"
  }
 },
 "nbformat": 4,
 "nbformat_minor": 2
}
